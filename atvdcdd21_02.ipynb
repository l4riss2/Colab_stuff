{
  "nbformat": 4,
  "nbformat_minor": 0,
  "metadata": {
    "colab": {
      "provenance": [],
      "authorship_tag": "ABX9TyO0juPoU47qPLKVkB4V5pSU",
      "include_colab_link": true
    },
    "kernelspec": {
      "name": "python3",
      "display_name": "Python 3"
    },
    "language_info": {
      "name": "python"
    }
  },
  "cells": [
    {
      "cell_type": "markdown",
      "metadata": {
        "id": "view-in-github",
        "colab_type": "text"
      },
      "source": [
        "<a href=\"https://colab.research.google.com/github/l4riss2/Colab_stuff/blob/main/atvdcdd21_02.ipynb\" target=\"_parent\"><img src=\"https://colab.research.google.com/assets/colab-badge.svg\" alt=\"Open In Colab\"/></a>"
      ]
    },
    {
      "cell_type": "code",
      "execution_count": null,
      "metadata": {
        "colab": {
          "base_uri": "https://localhost:8080/"
        },
        "id": "AdhyeaMq91jU",
        "outputId": "050fc667-ae08-4777-9ae8-69d687e53ec3"
      },
      "outputs": [
        {
          "output_type": "stream",
          "name": "stdout",
          "text": [
            "Digite um número inteiro:2\n",
            "Digite outro número inteiro:5\n",
            "32\n"
          ]
        }
      ],
      "source": [
        "var1=int(input(\"Digite um número inteiro:\"))\n",
        "var2=int(input(\"Digite outro número inteiro:\"))\n",
        "exp = var1**var2\n",
        "print(exp)\n"
      ]
    },
    {
      "cell_type": "code",
      "source": [
        "var1=int(input(\"Digite um número inteiro:\"))\n",
        "var2=int(input(\"Digite outro número inteiro:\"))\n",
        "resto=var1%var2\n",
        "print(resto)"
      ],
      "metadata": {
        "colab": {
          "base_uri": "https://localhost:8080/"
        },
        "id": "8khFDLg--4Z7",
        "outputId": "711865aa-02ec-4675-a7c3-aa1a2b21121a"
      },
      "execution_count": null,
      "outputs": [
        {
          "output_type": "stream",
          "name": "stdout",
          "text": [
            "Digite um número inteiro:10\n",
            "Digite outro número inteiro:3\n",
            "1\n"
          ]
        }
      ]
    },
    {
      "cell_type": "code",
      "source": [
        "a = 3\n",
        "b = 4\n",
        "c = a < b\n",
        "d = a > b\n",
        "e = a == b\n",
        "\n",
        "print(\"Valor de c:\",c)\n",
        "print(\"Valor de d:\",d)\n",
        "print(\"Valor de e:\",e)"
      ],
      "metadata": {
        "colab": {
          "base_uri": "https://localhost:8080/"
        },
        "id": "09DQeR2p_09M",
        "outputId": "187ffea1-2d7c-44f5-af85-ad96f0b2ffd0"
      },
      "execution_count": null,
      "outputs": [
        {
          "output_type": "stream",
          "name": "stdout",
          "text": [
            "Valor de c: True\n",
            "Valor de d: False\n",
            "Valor de e: False\n"
          ]
        }
      ]
    },
    {
      "cell_type": "code",
      "source": [
        "A=True\n",
        "B=False\n",
        "print(\"Valor de A and B:\", A and B)"
      ],
      "metadata": {
        "colab": {
          "base_uri": "https://localhost:8080/"
        },
        "id": "28hCxKOICNIt",
        "outputId": "9b4de8c1-b681-446d-bae7-c7b71240fec1"
      },
      "execution_count": null,
      "outputs": [
        {
          "output_type": "stream",
          "name": "stdout",
          "text": [
            "Valor de A and B: False\n"
          ]
        }
      ]
    },
    {
      "cell_type": "code",
      "source": [
        "A=True\n",
        "B=True\n",
        "print(\"Valor de A and B:\", A and B)"
      ],
      "metadata": {
        "colab": {
          "base_uri": "https://localhost:8080/"
        },
        "id": "Ui_L_HY8Cs_Q",
        "outputId": "4b6f3b86-3264-4ef8-8063-33f74f53bd81"
      },
      "execution_count": null,
      "outputs": [
        {
          "output_type": "stream",
          "name": "stdout",
          "text": [
            "Valor de A and B: True\n"
          ]
        }
      ]
    },
    {
      "cell_type": "code",
      "source": [
        "idade = int(input(\"Digite sua idade:\"))\n",
        "permissao = input(\"Você possui permissão(sim ou não)?:\")\n",
        "if idade >=18 and permissao == \"sim\" or \"Sim\":\n",
        "  print(\"Foi possível realizar algo\")\n",
        "else:\n",
        "    print(\"Não foi possível realizar algo\")"
      ],
      "metadata": {
        "id": "gQkbf90jDQS7"
      },
      "execution_count": null,
      "outputs": []
    },
    {
      "cell_type": "code",
      "source": [
        "a = 6\n",
        "b = 6\n",
        "if a == 6 or b == 6:\n",
        "  print(True)\n",
        "else:\n",
        "  print(False)"
      ],
      "metadata": {
        "id": "q1rd0JjNE5Ny"
      },
      "execution_count": null,
      "outputs": []
    },
    {
      "cell_type": "code",
      "source": [
        "condicão= True\n",
        "if not condicão:\n",
        "  print(\"A condição é falsa\")\n",
        "else:\n",
        "  print(\"A condição é verdadeira\")"
      ],
      "metadata": {
        "colab": {
          "base_uri": "https://localhost:8080/"
        },
        "id": "KWRJUp1WFnLz",
        "outputId": "6c484ccd-176b-4c12-d37a-dd5aa20a910c"
      },
      "execution_count": null,
      "outputs": [
        {
          "output_type": "stream",
          "name": "stdout",
          "text": [
            "A condição é verdadeira\n"
          ]
        }
      ]
    }
  ]
}