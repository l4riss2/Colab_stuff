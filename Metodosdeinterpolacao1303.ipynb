{
  "nbformat": 4,
  "nbformat_minor": 0,
  "metadata": {
    "colab": {
      "provenance": [],
      "authorship_tag": "ABX9TyN89ZyZbIgztxvD2LCpcgzG",
      "include_colab_link": true
    },
    "kernelspec": {
      "name": "python3",
      "display_name": "Python 3"
    },
    "language_info": {
      "name": "python"
    }
  },
  "cells": [
    {
      "cell_type": "markdown",
      "metadata": {
        "id": "view-in-github",
        "colab_type": "text"
      },
      "source": [
        "<a href=\"https://colab.research.google.com/github/l4riss2/Colab_stuff/blob/main/Metodosdeinterpolacao1303.ipynb\" target=\"_parent\"><img src=\"https://colab.research.google.com/assets/colab-badge.svg\" alt=\"Open In Colab\"/></a>"
      ]
    },
    {
      "cell_type": "markdown",
      "source": [
        "Concatenação"
      ],
      "metadata": {
        "id": "wgWgw6rYtgks"
      }
    },
    {
      "cell_type": "code",
      "source": [
        "nome=\"larissa\"\n",
        "idade = 15\n",
        "concatenacao=\"Olá,meu nome é \" + nome +\" e tenho \" + str(idade) + \" anos.\"\n",
        "print(concatenacao)"
      ],
      "metadata": {
        "id": "_-DdzLuIGx-U"
      },
      "execution_count": null,
      "outputs": []
    },
    {
      "cell_type": "markdown",
      "source": [
        "Metodos de Interpolação"
      ],
      "metadata": {
        "id": "L97QEwJytp-x"
      }
    },
    {
      "cell_type": "code",
      "source": [
        "nome= \"Larissa\"\n",
        "idade=15\n",
        "frase=\"Olá, meu nome é {} e tenho {} anos.\".format(nome,idade)\n",
        "print(frase)"
      ],
      "metadata": {
        "id": "0ipnc-zPt7m6"
      },
      "execution_count": null,
      "outputs": []
    },
    {
      "cell_type": "code",
      "source": [
        "frase=\"{1},{0},{2}\".format(\"primeiro\",\"segundo\",\"terceiro\")\n",
        "print(frase)"
      ],
      "metadata": {
        "id": "iOhI4x1Jt5LO"
      },
      "execution_count": null,
      "outputs": []
    },
    {
      "cell_type": "code",
      "source": [
        "frase=\"Meu nome é {nome} e tenho {idade} anos.\".format(nome=\"larissa\",idade=15)\n",
        "print(frase)"
      ],
      "metadata": {
        "id": "1wgAvXC3vfrp"
      },
      "execution_count": null,
      "outputs": []
    },
    {
      "cell_type": "code",
      "source": [
        "numero_inteiro=42\n",
        "numero_ponto_flutuante=5.1234\n",
        "\n",
        "frase=\"Número inteiro:{:d}, Número de ponto flutuante {:.2f}\".format(numero_inteiro,numero_ponto_flutuante)\n",
        "print(frase)"
      ],
      "metadata": {
        "id": "n3b-OHm_v6gx"
      },
      "execution_count": null,
      "outputs": []
    },
    {
      "cell_type": "code",
      "source": [
        "nome=\"Alice\"\n",
        "idade=30\n",
        "frase=\"Nome:{:<10} | idade:{:>5}\".format(nome,idade)\n",
        "print(frase)"
      ],
      "metadata": {
        "id": "fE7oikjUwpa4"
      },
      "execution_count": null,
      "outputs": []
    },
    {
      "cell_type": "code",
      "source": [
        "nome=\"Luís\"\n",
        "idade = 30\n",
        "frase=f\"Olá, meu nome é {nome} e tenho {idade} anos.\"\n",
        "print(frase)"
      ],
      "metadata": {
        "id": "EvaJoIAKxdRx"
      },
      "execution_count": null,
      "outputs": []
    },
    {
      "cell_type": "code",
      "source": [
        "valor = 42\n",
        "frase=f'O dobro de {valor} é {valor*2},e o triplo é {valor*3}.'\n",
        "print(frase)"
      ],
      "metadata": {
        "id": "weEaimpfx33G"
      },
      "execution_count": null,
      "outputs": []
    },
    {
      "cell_type": "code",
      "source": [
        "nome = \"Ana\"\n",
        "idade = 25\n",
        "altura = 1.68\n",
        "\n",
        "frase=f\"Nome:{nome}, idade:{idade:d} e Altura:{altura:.2f} metros\"\n",
        "print(frase)"
      ],
      "metadata": {
        "id": "qlOlr_9TyM9R"
      },
      "execution_count": null,
      "outputs": []
    }
  ]
}