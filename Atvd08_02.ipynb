{
  "cells": [
    {
      "cell_type": "markdown",
      "metadata": {
        "id": "view-in-github",
        "colab_type": "text"
      },
      "source": [
        "<a href=\"https://colab.research.google.com/github/l4riss2/Colab_stuff/blob/main/Atvd08_02.ipynb\" target=\"_parent\"><img src=\"https://colab.research.google.com/assets/colab-badge.svg\" alt=\"Open In Colab\"/></a>"
      ]
    },
    {
      "cell_type": "markdown",
      "metadata": {
        "id": "KqRZPwLkLPbi"
      },
      "source": [
        "**Questão 1**"
      ]
    },
    {
      "cell_type": "markdown",
      "source": [
        "Váriaveis são nomes aos quais se armazenam dados, que podem ser nomes, valores, entre outros. É possível colocar um valor dentro de uma váriavel a partir do operador de atribuição, o símbolo de igualdade \"=\".Exemplo : idade = 25."
      ],
      "metadata": {
        "id": "aUDIqRiABB0F"
      }
    },
    {
      "cell_type": "markdown",
      "metadata": {
        "id": "daDmr4mgbPsx"
      },
      "source": [
        "**Questão** **2**"
      ]
    },
    {
      "cell_type": "markdown",
      "metadata": {
        "id": "yZXYhu5bbwOo"
      },
      "source": [
        "Os quatros tipos principais de variáveis da progamação são : float, string , boolean e tipo inteiro(int).\n",
        "O string é uma variável que representa um caractere do tipo texto.\n",
        "O float é uma variável númerica do tipo decimal.\n",
        "O int ou tipo inteiro é uma variável númerica inteira, ou seja, não decimal.\n",
        "O boolean é uma variável que só pode representar somenet dois valores, verdadeiro ou falso."
      ]
    },
    {
      "cell_type": "code",
      "execution_count": null,
      "metadata": {
        "id": "ZGllsvAkdasG"
      },
      "outputs": [],
      "source": [
        "print(\"Oi!\")\n",
        "print(1.5)\n",
        "print(50)\n",
        "print(True)"
      ]
    },
    {
      "cell_type": "markdown",
      "metadata": {
        "id": "ds3lJCgAbeO9"
      },
      "source": [
        "**Questão 3**"
      ]
    },
    {
      "cell_type": "code",
      "execution_count": null,
      "metadata": {
        "id": "VJGIRw4qbdua"
      },
      "outputs": [],
      "source": [
        "print(\"Olá,Mundo!\")"
      ]
    },
    {
      "cell_type": "markdown",
      "metadata": {
        "id": "YBdyQGWTbiMW"
      },
      "source": [
        "**Questão 4**"
      ]
    },
    {
      "cell_type": "markdown",
      "metadata": {
        "id": "JHH6n_nfmxkC"
      },
      "source": [
        "A solicitação da entrada de um usuário em phyton é realizada através da função input, ou seja, ela é utilizada quando é preciso que o usuário passe ao progama algum tipo de dado."
      ]
    },
    {
      "cell_type": "code",
      "execution_count": null,
      "metadata": {
        "id": "d398uhnpmwV7"
      },
      "outputs": [],
      "source": [
        "nome=str(input(\"Olá,dídite o seu nome:\"))\n",
        "print(\"Olá\",nome)\n",
        "idade = int(input(\"Dígite sua idade para ser determinada sua faixa etária:\"))\n",
        "if idade<19:\n",
        "  print(\"Você é jovem.\")\n",
        "elif  20<idade<59:\n",
        "  print(\"Você é adulto(a).\")\n",
        "else:\n",
        "  print(\"Você é idoso(a).\")\n",
        "\n",
        "\n"
      ]
    },
    {
      "cell_type": "markdown",
      "metadata": {
        "id": "boFluFq2bfPM"
      },
      "source": [
        "**Questão 5**"
      ]
    },
    {
      "cell_type": "code",
      "execution_count": null,
      "metadata": {
        "id": "Z2UrVbAIbfvj"
      },
      "outputs": [],
      "source": [
        "print(\"Calculadora simples\")\n",
        "operação= str(input(\"Olá, para resolver seu cálculo de apenas dois números, dígite qual das quatro operações matemáticas básicas você deseja realizar.\"))\n",
        "numero_1=int(input(\"Dígite o seu primeiro número:\"))\n",
        "numero_2=int(input(\"Dígite o seu segundo número:\"))\n",
        "if operação==\"adição\" or operação==\"Adição\":\n",
        "   print(numero_1+numero_2)\n",
        "elif operação==\"subtração\" or operação==\"Subtração\":\n",
        "   print(numero_1-numero_2)\n",
        "elif operação==\"multiplicação\" or operação==\"Multiplicação\":\n",
        "  print(numero_1*numero_2)\n",
        "elif operação==\"divisão\" or operação==\"Divisão\":\n",
        " if numero_2!=0:\n",
        "  print(numero_1/numero_2)\n",
        " else:\n",
        "    print(\"Erro:divisão por zero\")\n",
        "else:\n",
        "  print(\"Não foi possível realizar a operação.\")\n",
        "\n",
        "\n",
        "\n"
      ]
    },
    {
      "cell_type": "markdown",
      "metadata": {
        "id": "SH1K5MnWJ8n-"
      },
      "source": [
        "**Questão 6**"
      ]
    },
    {
      "cell_type": "code",
      "execution_count": null,
      "metadata": {
        "id": "oryJ74oYKAko"
      },
      "outputs": [],
      "source": [
        "print(\"Olá, informe abaixo o dado necessário para saber qual dia da semana o seu carro poderá circular.\")\n",
        "número=int(input(\"Por favor,digite o último dígito da placa do seu carro:\"))\n",
        "if número==1 or número==2 :\n",
        "  print(\"O seu carro só pode circular em dias de segunda-feira.\")\n",
        "elif número==3 or número==4:\n",
        "  print(\"O seu carro só pode circular em dias de terça-feira.\")\n",
        "elif número== 5 or número==6:\n",
        "   print(\"O seu carro só pode circular em dias de quarta-feira.\")\n",
        "elif número==7 or número==8:\n",
        "   print(\"O seu carro só pode circular em dias de quinta-feira.\")\n",
        "else:\n",
        "  print(\"O seu carro só pode circular em dias de sexta-feira.\")\n",
        "\n",
        "\n",
        "\n",
        "\n"
      ]
    }
  ],
  "metadata": {
    "colab": {
      "provenance": [],
      "authorship_tag": "ABX9TyMI5eydzf6TCSUI8Zh8TE0T",
      "include_colab_link": true
    },
    "kernelspec": {
      "display_name": "Python 3",
      "name": "python3"
    },
    "language_info": {
      "name": "python"
    }
  },
  "nbformat": 4,
  "nbformat_minor": 0
}